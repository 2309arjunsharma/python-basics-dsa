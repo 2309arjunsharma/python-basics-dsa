{
 "cells": [
  {
   "cell_type": "code",
   "execution_count": 7,
   "metadata": {},
   "outputs": [
    {
     "name": "stdout",
     "output_type": "stream",
     "text": [
      "Your total cost is ₹208\n"
     ]
    }
   ],
   "source": [
    "def calculate_totalcost(cart):\n",
    "    totalcost=0\n",
    "    for item in cart:\n",
    "        totalcost+=item['price']*item['quantity']\n",
    "\n",
    "    return totalcost\n",
    "\n",
    "cart=[\n",
    "    {'name':'Apple','price':10,'quantity':4},\n",
    "    {'name':'Banana','price':15,'quantity':8},\n",
    "    {'name':'Orange','price':13,'quantity':3},\n",
    "    {'name':'Dhaniya','price':1,'quantity':9}\n",
    "]\n",
    "\n",
    "totalcost=calculate_totalcost(cart)\n",
    "print(f\"Your total cost is ₹{totalcost}\")"
   ]
  }
 ],
 "metadata": {
  "kernelspec": {
   "display_name": "base",
   "language": "python",
   "name": "python3"
  },
  "language_info": {
   "codemirror_mode": {
    "name": "ipython",
    "version": 3
   },
   "file_extension": ".py",
   "mimetype": "text/x-python",
   "name": "python",
   "nbconvert_exporter": "python",
   "pygments_lexer": "ipython3",
   "version": "3.12.4"
  }
 },
 "nbformat": 4,
 "nbformat_minor": 2
}
