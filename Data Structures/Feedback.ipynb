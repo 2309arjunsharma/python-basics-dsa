{
 "cells": [
  {
   "cell_type": "code",
   "execution_count": 2,
   "metadata": {},
   "outputs": [
    {
     "name": "stdout",
     "output_type": "stream",
     "text": [
      "Positive Feedback Count: 2\n",
      "User Feedback: \n",
      " •Great service!\n",
      " •Very satisfied\n",
      " •Could be better\n",
      " •Excellent experience\n",
      " •Very Bad\n"
     ]
    }
   ],
   "source": [
    "feedback=[\"Great service!\",\"Very satisfied\",\"Could be better\",\"Excellent experience\"]\n",
    "\n",
    "feedback.append(\"Very Bad\")\n",
    "\n",
    "positive_feedback_count=sum(1 for comment in feedback if \"great\" in comment.lower() or \"excellent\" in comment.lower())\n",
    "print(f\"Positive Feedback Count: {positive_feedback_count}\")\n",
    "\n",
    "print(\"User Feedback: \")\n",
    "for comment in feedback:\n",
    "    print(f\" •{comment}\")\n"
   ]
  }
 ],
 "metadata": {
  "kernelspec": {
   "display_name": "base",
   "language": "python",
   "name": "python3"
  },
  "language_info": {
   "codemirror_mode": {
    "name": "ipython",
    "version": 3
   },
   "file_extension": ".py",
   "mimetype": "text/x-python",
   "name": "python",
   "nbconvert_exporter": "python",
   "pygments_lexer": "ipython3",
   "version": "3.12.4"
  }
 },
 "nbformat": 4,
 "nbformat_minor": 2
}
