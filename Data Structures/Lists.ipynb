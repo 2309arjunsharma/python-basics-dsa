{
 "cells": [
  {
   "cell_type": "code",
   "execution_count": 2,
   "metadata": {},
   "outputs": [
    {
     "name": "stdout",
     "output_type": "stream",
     "text": [
      "<class 'list'>\n"
     ]
    }
   ],
   "source": [
    "lst=[]\n",
    "print(type(lst))"
   ]
  },
  {
   "cell_type": "code",
   "execution_count": 4,
   "metadata": {},
   "outputs": [
    {
     "name": "stdout",
     "output_type": "stream",
     "text": [
      "[1, 2, 3, 4, 5, 'Arjun', 'Aveer', 12]\n"
     ]
    }
   ],
   "source": [
    "list=[1,2,3,4,5,\"Arjun\",\"Aveer\",12]\n",
    "print(list)"
   ]
  },
  {
   "cell_type": "code",
   "execution_count": 5,
   "metadata": {},
   "outputs": [
    {
     "name": "stdout",
     "output_type": "stream",
     "text": [
      "[12, 3.1416, True, 'Arjun', {1, 2, 3, 4}]\n"
     ]
    }
   ],
   "source": [
    "mixed_list=[12,3.1416,True,\"Arjun\",{1,2,3,4}]\n",
    "print(mixed_list)"
   ]
  },
  {
   "cell_type": "code",
   "execution_count": 19,
   "metadata": {},
   "outputs": [
    {
     "name": "stdout",
     "output_type": "stream",
     "text": [
      "Types of fruits are ['apple', 'banana', 'mango', 'guava', 'kiwi', 'cherry', 'chiku', 'pineapple', 'watermelon', 'melon', 'tomato']\n"
     ]
    },
    {
     "data": {
      "text/plain": [
       "['tomato',\n",
       " 'melon',\n",
       " 'watermelon',\n",
       " 'pineapple',\n",
       " 'chiku',\n",
       " 'cherry',\n",
       " 'kiwi',\n",
       " 'guava',\n",
       " 'mango',\n",
       " 'banana',\n",
       " 'apple']"
      ]
     },
     "execution_count": 19,
     "metadata": {},
     "output_type": "execute_result"
    }
   ],
   "source": [
    "fruits=[\"apple\",\"banana\",\"mango\",\"guava\",\"kiwi\",\"cherry\",\"chiku\",\"pineapple\",\"watermelon\",\"melon\",\"tomato\"]\n",
    "print(f\"Types of fruits are {fruits}\")\n",
    "fruits.reverse()\n",
    "fruits"
   ]
  },
  {
   "cell_type": "code",
   "execution_count": 18,
   "metadata": {},
   "outputs": [
    {
     "name": "stdout",
     "output_type": "stream",
     "text": [
      "tomato\n",
      "watermelon\n",
      "chiku\n",
      "n\n",
      "['melon', 'watermelon', 'pineapple', 'chiku', 'w', 'a', 't', 'e', 'r', 'm', 'e', 'l', 'o', 'n']\n",
      "['melon', 'watermelon', 'pineapple']\n",
      "[]\n",
      "['tomato', 'orange', 'watermelon', 'pineapple', 'chiku', 'w', 'a', 't', 'e', 'r', 'm', 'e', 'l', 'o', 'n']\n"
     ]
    }
   ],
   "source": [
    "print(fruits[0])\n",
    "print(fruits[2])\n",
    "print(fruits[4])\n",
    "print(fruits[-1])\n",
    "print(fruits[1:])\n",
    "print(fruits[1:4])\n",
    "print(fruits[-1:3])\n",
    "fruits[1]=\"orange\"\n",
    "print(fruits)\n"
   ]
  },
  {
   "cell_type": "code",
   "execution_count": 17,
   "metadata": {},
   "outputs": [
    {
     "data": {
      "text/plain": [
       "['tomato',\n",
       " 'melon',\n",
       " 'watermelon',\n",
       " 'pineapple',\n",
       " 'chiku',\n",
       " 'w',\n",
       " 'a',\n",
       " 't',\n",
       " 'e',\n",
       " 'r',\n",
       " 'm',\n",
       " 'e',\n",
       " 'l',\n",
       " 'o',\n",
       " 'n']"
      ]
     },
     "execution_count": 17,
     "metadata": {},
     "output_type": "execute_result"
    }
   ],
   "source": [
    "fruits[5:]=\"watermelon\"\n",
    "fruits"
   ]
  },
  {
   "cell_type": "code",
   "execution_count": null,
   "metadata": {},
   "outputs": [],
   "source": []
  }
 ],
 "metadata": {
  "kernelspec": {
   "display_name": "base",
   "language": "python",
   "name": "python3"
  },
  "language_info": {
   "codemirror_mode": {
    "name": "ipython",
    "version": 3
   },
   "file_extension": ".py",
   "mimetype": "text/x-python",
   "name": "python",
   "nbconvert_exporter": "python",
   "pygments_lexer": "ipython3",
   "version": "3.12.4"
  }
 },
 "nbformat": 4,
 "nbformat_minor": 2
}
