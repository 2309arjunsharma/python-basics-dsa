{
 "cells": [
  {
   "cell_type": "code",
   "execution_count": 15,
   "metadata": {},
   "outputs": [
    {
     "name": "stdout",
     "output_type": "stream",
     "text": [
      "Do not forget to learn Shri Ram dialogues!!\n",
      "My tasks remaining are\n",
      " ● Do Python\n",
      " ● Do study\n",
      " ● Eat Food\n",
      " ● Do Yoga\n",
      " ● Dress as Shri Ram\n"
     ]
    }
   ],
   "source": [
    "todo_list=[\"Do Python\",\"Make Drawing\",\"Do study\",\"Eat Food\"]\n",
    "\n",
    "todo_list.append(\"Do Yoga\")\n",
    "todo_list.append(\"Dress as Shri Ram\")\n",
    "\n",
    "\n",
    "\n",
    "todo_list.remove(\"Make Drawing\")\n",
    "if \"Dress as Shri Ram\" in todo_list:\n",
    "    print(\"Do not forget to learn Shri Ram dialogues!!\")\n",
    "\n",
    "print(\"My tasks remaining are\")\n",
    "for t in todo_list:\n",
    "    print(f\" ● {t}\")"
   ]
  },
  {
   "cell_type": "code",
   "execution_count": 17,
   "metadata": {},
   "outputs": [
    {
     "name": "stdout",
     "output_type": "stream",
     "text": [
      "[98, 91, 77, 83, 69, 95]\n",
      "Average grade is 85.50\n",
      "The highest grade is 98\n",
      "The lowest grade is 69\n"
     ]
    }
   ],
   "source": [
    "grades=[98,91,77,83,69]\n",
    "\n",
    "grades.append(95)\n",
    "print(grades)\n",
    "avg_grades=sum(grades)/len(grades)\n",
    "print(f\"Average grade is {avg_grades:.2f}\")\n",
    "\n",
    "\n",
    "highest_grade=max(grades)\n",
    "lowest_grade=min(grades)\n",
    "print(f\"The highest grade is {highest_grade}\")\n",
    "print(f\"The lowest grade is {lowest_grade}\")\n",
    "\n"
   ]
  },
  {
   "cell_type": "code",
   "execution_count": null,
   "metadata": {},
   "outputs": [],
   "source": [
    "inventory=[\"\"]"
   ]
  }
 ],
 "metadata": {
  "kernelspec": {
   "display_name": "base",
   "language": "python",
   "name": "python3"
  },
  "language_info": {
   "codemirror_mode": {
    "name": "ipython",
    "version": 3
   },
   "file_extension": ".py",
   "mimetype": "text/x-python",
   "name": "python",
   "nbconvert_exporter": "python",
   "pygments_lexer": "ipython3",
   "version": "3.12.4"
  }
 },
 "nbformat": 4,
 "nbformat_minor": 2
}
